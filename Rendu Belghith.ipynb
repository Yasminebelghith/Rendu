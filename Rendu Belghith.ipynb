{
 "cells": [
  {
   "cell_type": "code",
   "execution_count": null,
   "metadata": {},
   "outputs": [],
   "source": [
    "# To predict the missing values of yob and gender I used a Linear Regression model\n",
    "# I started by predicting the missing yob values then I predicted the missing gender values\n",
    "# The second prediction depends on the first one when both values are missing for a user\n",
    "# Maybe doing 2 independant predictions might be better in this case"
   ]
  },
  {
   "cell_type": "code",
   "execution_count": 1,
   "metadata": {},
   "outputs": [],
   "source": [
    "from sklearn.linear_model import LinearRegression\n",
    "import pandas as pd\n",
    "from pandas import read_csv\n",
    "from sklearn import preprocessing\n",
    "import numpy as np"
   ]
  },
  {
   "cell_type": "code",
   "execution_count": 2,
   "metadata": {},
   "outputs": [],
   "source": [
    "#load the data\n",
    "path = \"user_exo_2M.csv\"\n",
    "file = pd.read_csv(path)"
   ]
  },
  {
   "cell_type": "code",
   "execution_count": 3,
   "metadata": {},
   "outputs": [],
   "source": [
    "#convert categorical data to float to be able to train the model and predict the missing values\n",
    "#save a dictionnary for each column for storing the categorical data and the corresponding float\n",
    "#returns the new file containing only numbers and the different dictionnaries\n",
    "def convert(file):\n",
    "    le = preprocessing.LabelEncoder()\n",
    "    file['domain'] = le.fit_transform(file.domain)\n",
    "    class1 = le.classes_\n",
    "    file['firstname']= le.fit_transform(file.firstname)\n",
    "    class2 = le.classes_\n",
    "    file['gender'] = le.fit_transform(file.gender.astype(str))\n",
    "    class3 = le.classes_\n",
    "    file = file.fillna(-1)\n",
    "    dictDomain = dict(zip(le.fit_transform(class1),class1))\n",
    "    dictName = dict(zip(le.fit_transform(class2),class2))\n",
    "    dictGender = dict(zip(le.fit_transform(class3),class3))\n",
    "    return file,dictDomain,dictName,dictGender"
   ]
  },
  {
   "cell_type": "code",
   "execution_count": 4,
   "metadata": {},
   "outputs": [],
   "source": [
    "#keep only the good data without any missing values \n",
    "# I think that it's better to train the model on a database that has no missing values although we'll have less data\n",
    "def filter_data(File):\n",
    "    File = File[File.yob != -1]\n",
    "    File = File[File.gender != 2]\n",
    "    return File"
   ]
  },
  {
   "cell_type": "code",
   "execution_count": 5,
   "metadata": {},
   "outputs": [],
   "source": [
    "#File without categorical data as well as the different dictionnaries\n",
    "NewFile,dictDomain,dictName,dictGender = convert(file)\n",
    "\n",
    "#We start with the yob prediction\n",
    "#Get only the rows with missing yob\n",
    "missing_yob = NewFile.loc[NewFile['yob'] == -1]\n",
    "\n",
    "#data without any missing info\n",
    "good_data = filter_data(NewFile)\n",
    "\n",
    "#all columns except yob from the good data file\n",
    "train_yob_X = good_data.iloc[:,1:5]\n",
    "#only the yob column from the good data file\n",
    "train_yob_Y = good_data.iloc[:,0]\n",
    "#test data: rows with missing yob  \n",
    "test_yob_X = missing_yob.drop(['yob'], axis=1)\n"
   ]
  },
  {
   "cell_type": "code",
   "execution_count": 6,
   "metadata": {},
   "outputs": [
    {
     "name": "stdout",
     "output_type": "stream",
     "text": [
      "only float dataset :\n",
      "           yob  domain  firstname  zipcode  gender\n",
      "0        1985      39      10757  94450.0       0\n",
      "1        1961      36       7717  78580.0       1\n",
      "2        1977      10       1393  62640.0       2\n",
      "3          -1      16      12922  94100.0       1\n",
      "4          -1      11      11559  78100.0       2\n",
      "...       ...     ...        ...      ...     ...\n",
      "1999995  1994      11        576  62400.0       0\n",
      "1999996  1997      11       7851   7200.0       1\n",
      "1999997  1998      11        134  21000.0       2\n",
      "1999998    -1      16      13612  26240.0       1\n",
      "1999999    -1      33      14772   6670.0       2\n",
      "\n",
      "[2000000 rows x 5 columns]\n",
      "missing yob dataset:\n",
      "          yob  domain  firstname  zipcode  gender\n",
      "3         -1      16      12922  94100.0       1\n",
      "4         -1      11      11559  78100.0       2\n",
      "8         -1      24      10046   5100.0       1\n",
      "9         -1      39       5769  68300.0       2\n",
      "13        -1      10      13172  24100.0       1\n",
      "...      ...     ...        ...      ...     ...\n",
      "1999989   -1      36      13930  85200.0       2\n",
      "1999993   -1      11       2780  80090.0       0\n",
      "1999994   -1      33       5171  38100.0       2\n",
      "1999998   -1      16      13612  26240.0       1\n",
      "1999999   -1      33      14772   6670.0       2\n",
      "\n",
      "[800000 rows x 5 columns]\n",
      "good dataset:\n",
      "           yob  domain  firstname  zipcode  gender\n",
      "0        1985      39      10757  94450.0       0\n",
      "1        1961      36       7717  78580.0       1\n",
      "5        1975      39       5249  92600.0       1\n",
      "6        1974      11      12976  65200.0       1\n",
      "10       1961      11      10392  67380.0       1\n",
      "...       ...     ...        ...      ...     ...\n",
      "1999986  1973      10       7986  13013.0       1\n",
      "1999990  1959      17      10722  22100.0       0\n",
      "1999991  1998      18       2158  91350.0       0\n",
      "1999995  1994      11        576  62400.0       0\n",
      "1999996  1997      11       7851   7200.0       1\n",
      "\n",
      "[796719 rows x 5 columns]\n",
      "Train X :\n",
      "          domain  firstname  zipcode  gender\n",
      "0            39      10757  94450.0       0\n",
      "1            36       7717  78580.0       1\n",
      "5            39       5249  92600.0       1\n",
      "6            11      12976  65200.0       1\n",
      "10           11      10392  67380.0       1\n",
      "...         ...        ...      ...     ...\n",
      "1999986      10       7986  13013.0       1\n",
      "1999990      17      10722  22100.0       0\n",
      "1999991      18       2158  91350.0       0\n",
      "1999995      11        576  62400.0       0\n",
      "1999996      11       7851   7200.0       1\n",
      "\n",
      "[796719 rows x 4 columns]\n",
      "Train Y :\n",
      " 0          1985\n",
      "1          1961\n",
      "5          1975\n",
      "6          1974\n",
      "10         1961\n",
      "           ... \n",
      "1999986    1973\n",
      "1999990    1959\n",
      "1999991    1998\n",
      "1999995    1994\n",
      "1999996    1997\n",
      "Name: yob, Length: 796719, dtype: int64\n",
      "Test X :\n",
      "          domain  firstname  zipcode  gender\n",
      "3            16      12922  94100.0       1\n",
      "4            11      11559  78100.0       2\n",
      "8            24      10046   5100.0       1\n",
      "9            39       5769  68300.0       2\n",
      "13           10      13172  24100.0       1\n",
      "...         ...        ...      ...     ...\n",
      "1999989      36      13930  85200.0       2\n",
      "1999993      11       2780  80090.0       0\n",
      "1999994      33       5171  38100.0       2\n",
      "1999998      16      13612  26240.0       1\n",
      "1999999      33      14772   6670.0       2\n",
      "\n",
      "[800000 rows x 4 columns]\n"
     ]
    }
   ],
   "source": [
    "print(\"only float dataset :\\n\",NewFile)\n",
    "print(\"missing yob dataset:\\n\",missing_yob)\n",
    "print(\"good dataset:\\n\",good_data)\n",
    "print(\"Train X :\\n\",train_yob_X)\n",
    "print(\"Train Y :\\n\",train_yob_Y)\n",
    "print(\"Test X :\\n\",test_yob_X)"
   ]
  },
  {
   "cell_type": "code",
   "execution_count": 7,
   "metadata": {},
   "outputs": [
    {
     "data": {
      "text/plain": [
       "LinearRegression()"
      ]
     },
     "execution_count": 7,
     "metadata": {},
     "output_type": "execute_result"
    }
   ],
   "source": [
    "#model\n",
    "linreg = LinearRegression()\n",
    "#train the model\n",
    "linreg.fit(train_yob_X,train_yob_Y)"
   ]
  },
  {
   "cell_type": "code",
   "execution_count": 8,
   "metadata": {},
   "outputs": [],
   "source": [
    "#predict on missing data\n",
    "#I used round to get a number that looks like a year of birth (the integer)\n",
    "df_yob = np.round(pd.DataFrame(linreg.predict(test_yob_X)))"
   ]
  },
  {
   "cell_type": "code",
   "execution_count": 9,
   "metadata": {},
   "outputs": [
    {
     "name": "stderr",
     "output_type": "stream",
     "text": [
      "<ipython-input-9-8e303e153cec>:2: SettingWithCopyWarning: \n",
      "A value is trying to be set on a copy of a slice from a DataFrame\n",
      "\n",
      "See the caveats in the documentation: https://pandas.pydata.org/pandas-docs/stable/user_guide/indexing.html#returning-a-view-versus-a-copy\n",
      "  NewFile.yob[NewFile['yob'] == -1] = df_yob[0].values\n"
     ]
    }
   ],
   "source": [
    "#add new data to the old file\n",
    "NewFile.yob[NewFile['yob'] == -1] = df_yob[0].values"
   ]
  },
  {
   "cell_type": "code",
   "execution_count": 10,
   "metadata": {},
   "outputs": [
    {
     "name": "stdout",
     "output_type": "stream",
     "text": [
      "File with yob predictions:\n",
      "           yob  domain  firstname  zipcode  gender\n",
      "0        1985      39      10757  94450.0       0\n",
      "1        1961      36       7717  78580.0       1\n",
      "2        1977      10       1393  62640.0       2\n",
      "3        1977      16      12922  94100.0       1\n",
      "4        1977      11      11559  78100.0       2\n",
      "...       ...     ...        ...      ...     ...\n",
      "1999995  1994      11        576  62400.0       0\n",
      "1999996  1997      11       7851   7200.0       1\n",
      "1999997  1998      11        134  21000.0       2\n",
      "1999998  1975      16      13612  26240.0       1\n",
      "1999999  1970      33      14772   6670.0       2\n",
      "\n",
      "[2000000 rows x 5 columns]\n"
     ]
    }
   ],
   "source": [
    "print(\"File with yob predictions:\\n\",NewFile)"
   ]
  },
  {
   "cell_type": "code",
   "execution_count": 11,
   "metadata": {},
   "outputs": [],
   "source": [
    "#Now moving on to the gender prediction\n",
    "#Get only the rows with missing gender\n",
    "missing_gender = NewFile.loc[NewFile['gender'] == 2]\n",
    "\n",
    "#all columns except gender from the good data file\n",
    "train_gender_X = good_data.iloc[:,:4]\n",
    "#only the gender column from the good data file\n",
    "train_gender_Y = good_data.iloc[:,4]\n",
    "#test data: rows with missing gender \n",
    "test_gender_X = missing_gender.drop(['gender'], axis=1)"
   ]
  },
  {
   "cell_type": "code",
   "execution_count": 12,
   "metadata": {},
   "outputs": [
    {
     "data": {
      "text/plain": [
       "LinearRegression()"
      ]
     },
     "execution_count": 12,
     "metadata": {},
     "output_type": "execute_result"
    }
   ],
   "source": [
    "#train the model\n",
    "linreg.fit(train_gender_X,train_gender_Y)"
   ]
  },
  {
   "cell_type": "code",
   "execution_count": 13,
   "metadata": {},
   "outputs": [],
   "source": [
    "#predict on missing data\n",
    "#I used round to get a number that looks like a year of birth (the integer)\n",
    "df_gender = np.round(pd.DataFrame(linreg.predict(test_gender_X)))"
   ]
  },
  {
   "cell_type": "code",
   "execution_count": 14,
   "metadata": {},
   "outputs": [
    {
     "name": "stderr",
     "output_type": "stream",
     "text": [
      "<ipython-input-14-cdaf032d717c>:2: SettingWithCopyWarning: \n",
      "A value is trying to be set on a copy of a slice from a DataFrame\n",
      "\n",
      "See the caveats in the documentation: https://pandas.pydata.org/pandas-docs/stable/user_guide/indexing.html#returning-a-view-versus-a-copy\n",
      "  NewFile.gender[NewFile['gender'] == 2] = df_gender[0].values\n"
     ]
    }
   ],
   "source": [
    "#add new data to old file\n",
    "NewFile.gender[NewFile['gender'] == 2] = df_gender[0].values"
   ]
  },
  {
   "cell_type": "code",
   "execution_count": 15,
   "metadata": {},
   "outputs": [
    {
     "name": "stdout",
     "output_type": "stream",
     "text": [
      "File with all the predictions:\n",
      "           yob  domain  firstname  zipcode  gender\n",
      "0        1985      39      10757  94450.0       0\n",
      "1        1961      36       7717  78580.0       1\n",
      "2        1977      10       1393  62640.0       1\n",
      "3        1977      16      12922  94100.0       1\n",
      "4        1977      11      11559  78100.0       1\n",
      "...       ...     ...        ...      ...     ...\n",
      "1999995  1994      11        576  62400.0       0\n",
      "1999996  1997      11       7851   7200.0       1\n",
      "1999997  1998      11        134  21000.0       0\n",
      "1999998  1975      16      13612  26240.0       1\n",
      "1999999  1970      33      14772   6670.0       1\n",
      "\n",
      "[2000000 rows x 5 columns]\n"
     ]
    }
   ],
   "source": [
    "print(\"File with all the predictions:\\n\",NewFile)"
   ]
  },
  {
   "cell_type": "code",
   "execution_count": 16,
   "metadata": {},
   "outputs": [],
   "source": [
    "#put back the original categorical data for the domain, firstname and gender\n",
    "#Using .map is way faster than the original pd.DataFrame.replace function\n",
    "NewFile['domain'] = NewFile['domain'].map(dictDomain)\n",
    "NewFile['firstname'] = NewFile['firstname'].map(dictName)\n",
    "NewFile['gender'] = NewFile['gender'].map(dictGender)"
   ]
  },
  {
   "cell_type": "code",
   "execution_count": 17,
   "metadata": {},
   "outputs": [
    {
     "name": "stdout",
     "output_type": "stream",
     "text": [
      "          yob        domain        firstname  zipcode gender\n",
      "0        1985   @wanadoo.fr  b08253b305fb5ec  94450.0      F\n",
      "1        1961       @sfr.fr  7ff135854376850  78580.0      M\n",
      "2        1977      @free.fr  172522ec1028ab7  62640.0      M\n",
      "3        1977  @hotmail.com  d3ca5dde60f88db  94100.0      M\n",
      "4        1977    @gmail.com  bdaae16837dd576  78100.0      M\n",
      "...       ...           ...              ...      ...    ...\n",
      "1999995  1994    @gmail.com  09f96867a8dc816  62400.0      F\n",
      "1999996  1997    @gmail.com  823fec7a2632ea7   7200.0      M\n",
      "1999997  1998    @gmail.com  029f0f59eba0903  21000.0      F\n",
      "1999998  1975  @hotmail.com  deb97a759ee7b8b  26240.0      M\n",
      "1999999  1970    @orange.fr  f11d689dda42279   6670.0      M\n",
      "\n",
      "[2000000 rows x 5 columns]\n"
     ]
    }
   ],
   "source": [
    "print(NewFile)"
   ]
  },
  {
   "cell_type": "code",
   "execution_count": 19,
   "metadata": {},
   "outputs": [],
   "source": [
    "#save to .CSV file\n",
    "NewFile.to_csv('user_completed.csv',index=False)"
   ]
  },
  {
   "cell_type": "code",
   "execution_count": null,
   "metadata": {},
   "outputs": [],
   "source": []
  }
 ],
 "metadata": {
  "kernelspec": {
   "display_name": "Python 3",
   "language": "python",
   "name": "python3"
  },
  "language_info": {
   "codemirror_mode": {
    "name": "ipython",
    "version": 3
   },
   "file_extension": ".py",
   "mimetype": "text/x-python",
   "name": "python",
   "nbconvert_exporter": "python",
   "pygments_lexer": "ipython3",
   "version": "3.9.0"
  }
 },
 "nbformat": 4,
 "nbformat_minor": 4
}
